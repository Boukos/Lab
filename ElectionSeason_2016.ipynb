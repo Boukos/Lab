{
 "cells": [
  {
   "cell_type": "markdown",
   "metadata": {},
   "source": [
    "# Election Season 2016\n",
    "\n",
    "This is a step by step example of what a project for the Data Bootcamp course should consist of."
   ]
  },
  {
   "cell_type": "markdown",
   "metadata": {},
   "source": [
    "# Rough Project Idea\n",
    "\n",
    "I'm interested in data on TV advertising. When I looked in the old MBA Projects repository, I found an example of some data that described how much time different companies advertised by station. I'd be interested in figuring out what other questions could be asked from that dataset."
   ]
  },
  {
   "cell_type": "markdown",
   "metadata": {},
   "source": [
    "# Project Idea\n",
    "\n",
    "Politics is an integral part of the American lifestyle. Federal elections consume the country's attention for over a year leading up to elections. I came across a dataset which has data on all political ads shown in 10 battleground states, including: Arizona, Colorado, Iowa, Nevada, New Hampshire, North Carolina, Florida, Ohio, Pennsylvania and Wisconsin. I am interested in how the number of hours of advertising differs by type of campaign -- For example, one might wonder whether Presidential ads or Senate ads take up more time in each state. Since the election has already happened, one might also be able to investigate how advertising time related to the outcome."
   ]
  },
  {
   "cell_type": "markdown",
   "metadata": {},
   "source": [
    "# Project Proposal"
   ]
  },
  {
   "cell_type": "markdown",
   "metadata": {},
   "source": [
    "# Data Report\n",
    "\n",
    "Our data can be found on \"Political TV Ad Archive\" at this [link](http://politicaladarchive.org). They have an API which can be used to download the data. By clicking around and seeing what the links were pointing to when I clicked them, I discovered that the format for downloading data is:\n",
    "\n",
    "* Base url: `http://politicaladarchive.org/api/v1/ad_instances`\n",
    "* Parameters:\n",
    "  - start_time: Specified in format `month/day/year%timeofday`\n",
    "  - end_time: Specified in format `month/day/year%timeofday`\n",
    "  - output: Specifies the output format that you'd like to download `output=csv`\n",
    "\n",
    "For example, if I wanted to access the data from January 1, 2016 to March 31, 2016 I would use the url:\n",
    "\n",
    "`http://politicaladarchive.org/api/v1/ad_instances?start_time=1/1/2016%2000:00:00&end_time=3/31/2016%2023:59:59&output=csv`"
   ]
  },
  {
   "cell_type": "markdown",
   "metadata": {},
   "source": [
    "# Final Project\n",
    "\n",
    "(Every below this point would make up the final project)"
   ]
  },
  {
   "cell_type": "markdown",
   "metadata": {},
   "source": [
    "## Election Season 2016: Ad Analysis\n",
    "\n",
    "**Authors**: Chase Coleman and Spencer Lyon\n",
    "\n",
    "**Date**: November 16, 2016\n",
    "\n",
    "**Summary**: We analyze political ad data to answer several questions..."
   ]
  },
  {
   "cell_type": "code",
   "execution_count": 2,
   "metadata": {
    "collapsed": true
   },
   "outputs": [],
   "source": [
    "import matplotlib.pyplot as plt\n",
    "import pandas as pd\n",
    "import seaborn as sns\n",
    "\n",
    "%matplotlib inline"
   ]
  },
  {
   "cell_type": "markdown",
   "metadata": {},
   "source": [
    "### Download Data\n",
    "\n",
    "(If your data is complicated to get, like this one is, you might consider including your \"Data Report\" instructions that you previously turned in)\n",
    "\n",
    "My data can be found on \"Political TV Ad Archive\" at this [link](http://politicaladarchive.org). They have an API which can be used to download the data. By clicking around and seeing what the links were pointing to when I clicked them, I discovered that the format for downloading data is:\n",
    "\n",
    "* Base url: `http://politicaladarchive.org/api/v1/ad_instances`\n",
    "* Parameters:\n",
    "  - start_time: Specified in format `month/day/year%timeofday`\n",
    "  - end_time: Specified in format `month/day/year%timeofday`\n",
    "  - output: Specifies the output format that you'd like to download `output=csv`\n",
    "\n",
    "For example, if I wanted to access the data from January 1, 2016 to March 31, 2016 I would use the url:\n",
    "\n",
    "`http://politicaladarchive.org/api/v1/ad_instances?start_time=1/1/2016%2000:00:00&end_time=3/31/2016%2023:59:59&output=csv`"
   ]
  },
  {
   "cell_type": "code",
   "execution_count": 7,
   "metadata": {
    "collapsed": true
   },
   "outputs": [],
   "source": [
    "base_url = \"http://politicaladarchive.org/api/v1/ad_instances?\"\n",
    "s_time = \"start_time={}/1/{}%2000:00:00&\"\n",
    "e_time = \"end_time={}/31/{}%2023:59:59&\"\n",
    "csv = \"output=csv\"\n",
    "\n",
    "query_string = base_url + s_time + e_time + csv"
   ]
  },
  {
   "cell_type": "code",
   "execution_count": 10,
   "metadata": {
    "collapsed": false
   },
   "outputs": [],
   "source": [
    "# Read data every few months -- Just so we don't have _too_ much data\n",
    "df_dec2015 = pd.read_csv(query_string.format(12, 2015, 12, 2015))\n",
    "df_mar2016 = pd.read_csv(query_string.format(2, 2016, 2, 2016))\n",
    "df_jun2016 = pd.read_csv(query_string.format(6, 2016, 6, 2016))\n",
    "df_oct2016 = pd.read_csv(query_string.format(10, 2016, 10, 2016))"
   ]
  },
  {
   "cell_type": "markdown",
   "metadata": {},
   "source": [
    "## Clean Data\n",
    "\n",
    "Once we have downloaded the data, we still need to clean it up. In particular, we want to do 3 things with this dataset:\n",
    "\n",
    "* Make sure all dates/times are expressed as `datetime` objects\n",
    "* Drop any data that we are not going to use\n",
    "* Merge all of the dataframes together\n",
    "* Create a new column that is the length of the ad\n",
    "\n",
    "This is a smaller todo list than many datasets because this data comes in a nice format."
   ]
  },
  {
   "cell_type": "code",
   "execution_count": 23,
   "metadata": {
    "collapsed": true
   },
   "outputs": [],
   "source": [
    "# First lets drop data we aren't using\n",
    "cols = [\"id\", \"wp_identifier\", \"network\", \"location\", \"program\", \"program_type\",\n",
    "        \"start_time\", \"end_time\", \"race\", \"cycle\", \"subjects\", \"candidates\",\n",
    "        \"type\", \"message\", \"date_created\"]"
   ]
  },
  {
   "cell_type": "code",
   "execution_count": 24,
   "metadata": {
    "collapsed": true
   },
   "outputs": [],
   "source": [
    "# Put all of the dataframes together\n",
    "df = pd.concat([df_dec2015[cols], df_mar2016[cols],\n",
    "                df_jun2016[cols], df_oct2016[cols]])"
   ]
  },
  {
   "cell_type": "code",
   "execution_count": 29,
   "metadata": {
    "collapsed": true
   },
   "outputs": [],
   "source": [
    "# Make sure the date/time columns are stored as datetime objects\n",
    "df.loc[:, \"start_time\"] = pd.to_datetime(df.loc[:, \"start_time\"])\n",
    "df.loc[:, \"end_time\"] = pd.to_datetime(df.loc[:, \"end_time\"])\n",
    "df.loc[:, \"date_created\"] = pd.to_datetime(df.loc[:, \"date_created\"])"
   ]
  },
  {
   "cell_type": "code",
   "execution_count": 153,
   "metadata": {
    "collapsed": true
   },
   "outputs": [],
   "source": [
    "# Make sure we have some extra day/month/year info for later\n",
    "dates = pd.DatetimeIndex(df[\"end_time\"])\n",
    "\n",
    "df.loc[:, \"month\"] = dates.month\n",
    "df.loc[:, \"year\"] = dates.year\n",
    "df.loc[:, \"day\"] = dates.day\n",
    "df.loc[:, \"date\"] = dates"
   ]
  },
  {
   "cell_type": "code",
   "execution_count": 36,
   "metadata": {
    "collapsed": true
   },
   "outputs": [],
   "source": [
    "# Add a column that stores how long each ad was\n",
    "df.loc[:, \"length\"] = df[\"end_time\"] - df[\"start_time\"]"
   ]
  },
  {
   "cell_type": "code",
   "execution_count": 38,
   "metadata": {
    "collapsed": false
   },
   "outputs": [
    {
     "data": {
      "text/html": [
       "<div>\n",
       "<table border=\"1\" class=\"dataframe\">\n",
       "  <thead>\n",
       "    <tr style=\"text-align: right;\">\n",
       "      <th></th>\n",
       "      <th>id</th>\n",
       "      <th>network</th>\n",
       "      <th>program</th>\n",
       "      <th>start_time</th>\n",
       "      <th>end_time</th>\n",
       "      <th>length</th>\n",
       "      <th>candidates</th>\n",
       "    </tr>\n",
       "  </thead>\n",
       "  <tbody>\n",
       "    <tr>\n",
       "      <th>0</th>\n",
       "      <td>2673</td>\n",
       "      <td>KSNV</td>\n",
       "      <td>Law Order Special Victims Unit</td>\n",
       "      <td>2015-12-17 05:28:50</td>\n",
       "      <td>2015-12-17 05:30:54</td>\n",
       "      <td>00:02:04</td>\n",
       "      <td>Hillary Clinton</td>\n",
       "    </tr>\n",
       "    <tr>\n",
       "      <th>1</th>\n",
       "      <td>2679</td>\n",
       "      <td>WBZ</td>\n",
       "      <td>CBS This Morning</td>\n",
       "      <td>2015-12-19 13:33:54</td>\n",
       "      <td>2015-12-19 13:35:58</td>\n",
       "      <td>00:02:04</td>\n",
       "      <td>Hillary Clinton</td>\n",
       "    </tr>\n",
       "    <tr>\n",
       "      <th>2</th>\n",
       "      <td>2690</td>\n",
       "      <td>KCNS</td>\n",
       "      <td>Love for Christmas</td>\n",
       "      <td>2015-12-25 22:29:50</td>\n",
       "      <td>2015-12-25 22:31:54</td>\n",
       "      <td>00:02:04</td>\n",
       "      <td>Hillary Clinton</td>\n",
       "    </tr>\n",
       "    <tr>\n",
       "      <th>3</th>\n",
       "      <td>2695</td>\n",
       "      <td>KLAS</td>\n",
       "      <td>CBS This Morning</td>\n",
       "      <td>2015-12-19 13:33:39</td>\n",
       "      <td>2015-12-19 13:35:43</td>\n",
       "      <td>00:02:04</td>\n",
       "      <td>Hillary Clinton</td>\n",
       "    </tr>\n",
       "    <tr>\n",
       "      <th>4</th>\n",
       "      <td>2697</td>\n",
       "      <td>WUVP</td>\n",
       "      <td>Familia P. Luche</td>\n",
       "      <td>2015-12-14 04:29:29</td>\n",
       "      <td>2015-12-14 04:31:33</td>\n",
       "      <td>00:02:04</td>\n",
       "      <td>Hillary Clinton</td>\n",
       "    </tr>\n",
       "  </tbody>\n",
       "</table>\n",
       "</div>"
      ],
      "text/plain": [
       "     id network                         program          start_time  \\\n",
       "0  2673    KSNV  Law Order Special Victims Unit 2015-12-17 05:28:50   \n",
       "1  2679     WBZ                CBS This Morning 2015-12-19 13:33:54   \n",
       "2  2690    KCNS              Love for Christmas 2015-12-25 22:29:50   \n",
       "3  2695    KLAS                CBS This Morning 2015-12-19 13:33:39   \n",
       "4  2697    WUVP                Familia P. Luche 2015-12-14 04:29:29   \n",
       "\n",
       "             end_time   length       candidates  \n",
       "0 2015-12-17 05:30:54 00:02:04  Hillary Clinton  \n",
       "1 2015-12-19 13:35:58 00:02:04  Hillary Clinton  \n",
       "2 2015-12-25 22:31:54 00:02:04  Hillary Clinton  \n",
       "3 2015-12-19 13:35:43 00:02:04  Hillary Clinton  \n",
       "4 2015-12-14 04:31:33 00:02:04  Hillary Clinton  "
      ]
     },
     "execution_count": 38,
     "metadata": {},
     "output_type": "execute_result"
    }
   ],
   "source": [
    "# Get an idea of what data I have stored here\n",
    "df.head()[[\"id\", \"network\", \"program\", \"start_time\", \"end_time\", \"length\", \"candidates\"]]"
   ]
  },
  {
   "cell_type": "code",
   "execution_count": 147,
   "metadata": {
    "collapsed": false
   },
   "outputs": [
    {
     "data": {
      "text/html": [
       "<div>\n",
       "<table border=\"1\" class=\"dataframe\">\n",
       "  <thead>\n",
       "    <tr style=\"text-align: right;\">\n",
       "      <th></th>\n",
       "      <th>id</th>\n",
       "      <th>wp_identifier</th>\n",
       "      <th>network</th>\n",
       "      <th>location</th>\n",
       "      <th>program</th>\n",
       "      <th>program_type</th>\n",
       "      <th>start_time</th>\n",
       "      <th>end_time</th>\n",
       "      <th>race</th>\n",
       "      <th>cycle</th>\n",
       "      <th>subjects</th>\n",
       "      <th>candidates</th>\n",
       "      <th>type</th>\n",
       "      <th>message</th>\n",
       "      <th>date_created</th>\n",
       "      <th>length</th>\n",
       "    </tr>\n",
       "  </thead>\n",
       "  <tbody>\n",
       "    <tr>\n",
       "      <th>0</th>\n",
       "      <td>2673</td>\n",
       "      <td>5537</td>\n",
       "      <td>KSNV</td>\n",
       "      <td>Las Vegas, NV</td>\n",
       "      <td>Law Order Special Victims Unit</td>\n",
       "      <td>not news</td>\n",
       "      <td>2015-12-17 05:28:50</td>\n",
       "      <td>2015-12-17 05:30:54</td>\n",
       "      <td>PRES</td>\n",
       "      <td>2016.0</td>\n",
       "      <td>Candidate Biography</td>\n",
       "      <td>Hillary Clinton</td>\n",
       "      <td>campaign</td>\n",
       "      <td>pro</td>\n",
       "      <td>2016-09-12 14:49:39</td>\n",
       "      <td>00:02:04</td>\n",
       "    </tr>\n",
       "    <tr>\n",
       "      <th>1</th>\n",
       "      <td>2679</td>\n",
       "      <td>5537</td>\n",
       "      <td>WBZ</td>\n",
       "      <td>Boston, MA/Manchester, NH</td>\n",
       "      <td>CBS This Morning</td>\n",
       "      <td>news</td>\n",
       "      <td>2015-12-19 13:33:54</td>\n",
       "      <td>2015-12-19 13:35:58</td>\n",
       "      <td>PRES</td>\n",
       "      <td>2016.0</td>\n",
       "      <td>Candidate Biography</td>\n",
       "      <td>Hillary Clinton</td>\n",
       "      <td>campaign</td>\n",
       "      <td>pro</td>\n",
       "      <td>2016-09-12 14:49:39</td>\n",
       "      <td>00:02:04</td>\n",
       "    </tr>\n",
       "    <tr>\n",
       "      <th>2</th>\n",
       "      <td>2690</td>\n",
       "      <td>5537</td>\n",
       "      <td>KCNS</td>\n",
       "      <td>San Francisco-Oakland-San Jose, CA</td>\n",
       "      <td>Love for Christmas</td>\n",
       "      <td>not news</td>\n",
       "      <td>2015-12-25 22:29:50</td>\n",
       "      <td>2015-12-25 22:31:54</td>\n",
       "      <td>PRES</td>\n",
       "      <td>2016.0</td>\n",
       "      <td>Candidate Biography</td>\n",
       "      <td>Hillary Clinton</td>\n",
       "      <td>campaign</td>\n",
       "      <td>pro</td>\n",
       "      <td>2016-09-12 14:49:39</td>\n",
       "      <td>00:02:04</td>\n",
       "    </tr>\n",
       "    <tr>\n",
       "      <th>3</th>\n",
       "      <td>2695</td>\n",
       "      <td>5537</td>\n",
       "      <td>KLAS</td>\n",
       "      <td>Las Vegas, NV</td>\n",
       "      <td>CBS This Morning</td>\n",
       "      <td>news</td>\n",
       "      <td>2015-12-19 13:33:39</td>\n",
       "      <td>2015-12-19 13:35:43</td>\n",
       "      <td>PRES</td>\n",
       "      <td>2016.0</td>\n",
       "      <td>Candidate Biography</td>\n",
       "      <td>Hillary Clinton</td>\n",
       "      <td>campaign</td>\n",
       "      <td>pro</td>\n",
       "      <td>2016-09-12 14:49:39</td>\n",
       "      <td>00:02:04</td>\n",
       "    </tr>\n",
       "    <tr>\n",
       "      <th>4</th>\n",
       "      <td>2697</td>\n",
       "      <td>5537</td>\n",
       "      <td>WUVP</td>\n",
       "      <td>Philadelphia, PA</td>\n",
       "      <td>Familia P. Luche</td>\n",
       "      <td>not news</td>\n",
       "      <td>2015-12-14 04:29:29</td>\n",
       "      <td>2015-12-14 04:31:33</td>\n",
       "      <td>PRES</td>\n",
       "      <td>2016.0</td>\n",
       "      <td>Candidate Biography</td>\n",
       "      <td>Hillary Clinton</td>\n",
       "      <td>campaign</td>\n",
       "      <td>pro</td>\n",
       "      <td>2016-09-12 14:49:39</td>\n",
       "      <td>00:02:04</td>\n",
       "    </tr>\n",
       "  </tbody>\n",
       "</table>\n",
       "</div>"
      ],
      "text/plain": [
       "     id  wp_identifier network                            location  \\\n",
       "0  2673           5537    KSNV                       Las Vegas, NV   \n",
       "1  2679           5537     WBZ           Boston, MA/Manchester, NH   \n",
       "2  2690           5537    KCNS  San Francisco-Oakland-San Jose, CA   \n",
       "3  2695           5537    KLAS                       Las Vegas, NV   \n",
       "4  2697           5537    WUVP                    Philadelphia, PA   \n",
       "\n",
       "                          program program_type          start_time  \\\n",
       "0  Law Order Special Victims Unit     not news 2015-12-17 05:28:50   \n",
       "1                CBS This Morning         news 2015-12-19 13:33:54   \n",
       "2              Love for Christmas     not news 2015-12-25 22:29:50   \n",
       "3                CBS This Morning         news 2015-12-19 13:33:39   \n",
       "4                Familia P. Luche     not news 2015-12-14 04:29:29   \n",
       "\n",
       "             end_time  race   cycle             subjects       candidates  \\\n",
       "0 2015-12-17 05:30:54  PRES  2016.0  Candidate Biography  Hillary Clinton   \n",
       "1 2015-12-19 13:35:58  PRES  2016.0  Candidate Biography  Hillary Clinton   \n",
       "2 2015-12-25 22:31:54  PRES  2016.0  Candidate Biography  Hillary Clinton   \n",
       "3 2015-12-19 13:35:43  PRES  2016.0  Candidate Biography  Hillary Clinton   \n",
       "4 2015-12-14 04:31:33  PRES  2016.0  Candidate Biography  Hillary Clinton   \n",
       "\n",
       "       type message        date_created   length  \n",
       "0  campaign     pro 2016-09-12 14:49:39 00:02:04  \n",
       "1  campaign     pro 2016-09-12 14:49:39 00:02:04  \n",
       "2  campaign     pro 2016-09-12 14:49:39 00:02:04  \n",
       "3  campaign     pro 2016-09-12 14:49:39 00:02:04  \n",
       "4  campaign     pro 2016-09-12 14:49:39 00:02:04  "
      ]
     },
     "execution_count": 147,
     "metadata": {},
     "output_type": "execute_result"
    }
   ],
   "source": [
    "df.head()"
   ]
  },
  {
   "cell_type": "markdown",
   "metadata": {},
   "source": [
    "## Analysis\n",
    "\n",
    "We now proceed with our analysis"
   ]
  },
  {
   "cell_type": "markdown",
   "metadata": {},
   "source": [
    "#### Average length of commercial by candidate\n",
    "\n",
    "We can think about how long the average commercial was during the election cycle.\n",
    "\n",
    "One \"quick and dirty\" way to compute this would be to simply take the mean (moving everything to `datetime` objects allowed us to take the difference of the times and also compute the mean of that difference)\n",
    "\n",
    "We see below that the average length of a political ad was about 33 seconds."
   ]
  },
  {
   "cell_type": "code",
   "execution_count": 144,
   "metadata": {
    "collapsed": false
   },
   "outputs": [
    {
     "data": {
      "text/plain": [
       "Timedelta('0 days 00:00:33.317906')"
      ]
     },
     "execution_count": 144,
     "metadata": {},
     "output_type": "execute_result"
    }
   ],
   "source": [
    "df[\"length\"].mean()"
   ]
  },
  {
   "cell_type": "markdown",
   "metadata": {},
   "source": [
    "Another way we could do this is find the mean over time and see whether commercials got longer (possibly to provide more information) or shorter (to provide a quick bite for someone to chew on)"
   ]
  },
  {
   "cell_type": "code",
   "execution_count": 168,
   "metadata": {
    "collapsed": false
   },
   "outputs": [
    {
     "data": {
      "text/plain": [
       "Index(['id', 'wp_identifier', 'network', 'location', 'program', 'program_type',\n",
       "       'start_time', 'end_time', 'race', 'cycle', 'subjects', 'candidates',\n",
       "       'type', 'message', 'date_created', 'length', 'month', 'year', 'day',\n",
       "       'date'],\n",
       "      dtype='object')"
      ]
     },
     "execution_count": 168,
     "metadata": {},
     "output_type": "execute_result"
    }
   ],
   "source": [
    "df.columns"
   ]
  },
  {
   "cell_type": "code",
   "execution_count": 208,
   "metadata": {
    "collapsed": false
   },
   "outputs": [
    {
     "data": {
      "text/plain": [
       "33.896974898"
      ]
     },
     "execution_count": 208,
     "metadata": {},
     "output_type": "execute_result"
    }
   ],
   "source": [
    "df_tmp.loc[(2, 2016)].total_seconds()"
   ]
  },
  {
   "cell_type": "code",
   "execution_count": 219,
   "metadata": {
    "collapsed": false
   },
   "outputs": [
    {
     "data": {
      "text/plain": [
       "month  year\n",
       "2      2016    33.896975\n",
       "3      2016    32.017527\n",
       "6      2016    45.420389\n",
       "7      2016    36.305882\n",
       "10     2016    32.258631\n",
       "11     2016    46.000000\n",
       "12     2015    34.429530\n",
       "Name: mean, dtype: float64"
      ]
     },
     "execution_count": 219,
     "metadata": {},
     "output_type": "execute_result"
    }
   ],
   "source": []
  },
  {
   "cell_type": "code",
   "execution_count": 211,
   "metadata": {
    "collapsed": false
   },
   "outputs": [],
   "source": [
    "df_tmp.apply?"
   ]
  },
  {
   "cell_type": "code",
   "execution_count": 247,
   "metadata": {
    "collapsed": false
   },
   "outputs": [],
   "source": [
    "df_tmp = df[[\"length\", \"month\", \"year\"]].groupby([\"month\", \"year\"]).describe()\n",
    "\n",
    "df_tmp = df_tmp.unstack()\n",
    "df_tmp.columns = df_tmp.columns.droplevel(0)\n",
    "df_tmp = pd.to_timedelta(df_tmp[\"mean\"])\n",
    "\n",
    "df_tmp = df_tmp.apply(lambda x: x.total_seconds())\n",
    "df_tmp = df_tmp.reset_index()\n",
    "df_tmp.loc[:, \"day\"] = 1\n",
    "\n",
    "df_tmp.loc[:, \"date\"] = pd.to_datetime(df_tmp[[\"month\", \"day\", \"year\"]])\n",
    "df_tmp = df_tmp.set_index(\"date\")"
   ]
  },
  {
   "cell_type": "code",
   "execution_count": 248,
   "metadata": {
    "collapsed": false
   },
   "outputs": [
    {
     "data": {
      "text/plain": [
       "<matplotlib.axes._subplots.AxesSubplot at 0x7f9df01cc710>"
      ]
     },
     "execution_count": 248,
     "metadata": {},
     "output_type": "execute_result"
    },
    {
     "data": {
      "image/png": "[encoded data removed]",
      "text/plain": [
       "<matplotlib.figure.Figure at 0x7f9df025ac18>"
      ]
     },
     "metadata": {},
     "output_type": "display_data"
    }
   ],
   "source": [
    "df_tmp[\"mean\"].plot()"
   ]
  },
  {
   "cell_type": "markdown",
   "metadata": {},
   "source": [
    "#### Pro v Con v Mixed?\n",
    "\n",
    "The 2016 election was particularly divisive. Some of this can be seen by the number of pro vs con ads that were played in these 10 states during our observations.\n",
    "\n",
    "We see that at least in this election cycle (over our subsample of data) that there were more negative ads that were played than positive. One might consider going back to 2008 or 2012 (or earlier) and seeing whether this was true back then as well. If not, then this is one measurable quantity of how this election cycle was more divided than previous ones."
   ]
  },
  {
   "cell_type": "code",
   "execution_count": 142,
   "metadata": {
    "collapsed": false
   },
   "outputs": [
    {
     "data": {
      "text/plain": [
       "<matplotlib.text.Text at 0x7f9df0335400>"
      ]
     },
     "execution_count": 142,
     "metadata": {},
     "output_type": "execute_result"
    },
    {
     "data": {
      "image/png": "[encoded data removed]",
      "text/plain": [
       "<matplotlib.figure.Figure at 0x7f9df0379b70>"
      ]
     },
     "metadata": {},
     "output_type": "display_data"
    }
   ],
   "source": [
    "fig, ax = plt.subplots(figsize=(10, 8))\n",
    "\n",
    "df[\"message\"].value_counts().plot(kind=\"barh\", ax=ax)\n",
    "\n",
    "ax.set_title(\"Pro and Con TV Advertising (2016)\")"
   ]
  },
  {
   "cell_type": "markdown",
   "metadata": {},
   "source": [
    "#### Did Pro/Con Change Over Time?\n",
    "\n",
    "One thing you might wonder is whether the pro/con ratio changed over time. We can investigate this by looking at the pro/con ratio by month over our sample"
   ]
  },
  {
   "cell_type": "code",
   "execution_count": 145,
   "metadata": {
    "collapsed": false
   },
   "outputs": [],
   "source": [
    "# We say an ad happened when the ad ended\n",
    "df_tmp = df.set_index(\"end_time\")\n",
    "\n",
    "# Do the groupby\n",
    "mym = [\"month\", \"year\", \"message\"]\n",
    "df_tmp = df_tmp[mym].groupby([\"month\", \"year\"])[\"message\"].value_counts()\n",
    "\n",
    "# Unstack it, create a date column, set index to date\n",
    "df_tmp = df_tmp.unstack().reset_index()\n",
    "df_tmp = df_tmp.set_index(\"date\")\n",
    "\n",
    "# Compute the ratio\n",
    "df_tmp.loc[:, \"ratio\"] = df_tmp[\"con\"] / df_tmp[\"pro\"]\n",
    "\n",
    "df_tmp.loc[:, \"total_obs_ads\"] = df_tmp[[\"con\", \"mixed\", \"pro\", \"unknown\"]].sum(axis=1)\n",
    "\n",
    "# Only keep months with more than 500 ads\n",
    "df_tmp = df_tmp[df_tmp[\"total_obs_ads\"] > 500]"
   ]
  },
  {
   "cell_type": "code",
   "execution_count": 146,
   "metadata": {
    "collapsed": false
   },
   "outputs": [
    {
     "data": {
      "image/png": "[encoded data removed]",
      "text/plain": [
       "<matplotlib.figure.Figure at 0x7f9df032c400>"
      ]
     },
     "metadata": {},
     "output_type": "display_data"
    }
   ],
   "source": [
    "fig, ax = plt.subplots(figsize=(10, 8))\n",
    "\n",
    "df_tmp[\"ratio\"].plot(ax=ax)\n",
    "\n",
    "ax.set_title(\"The ratio of con/pro ads\");"
   ]
  },
  {
   "cell_type": "code",
   "execution_count": 60,
   "metadata": {
    "collapsed": false
   },
   "outputs": [],
   "source": [
    "df2 = df.groupby([\"candidates\", \"message\"])[\"type\"].count()"
   ]
  },
  {
   "cell_type": "code",
   "execution_count": null,
   "metadata": {
    "collapsed": true
   },
   "outputs": [],
   "source": []
  }
 ],
 "metadata": {
  "anaconda-cloud": {},
  "kernelspec": {
   "display_name": "Python [Root]",
   "language": "python",
   "name": "Python [Root]"
  },
  "language_info": {
   "codemirror_mode": {
    "name": "ipython",
    "version": 3
   },
   "file_extension": ".py",
   "mimetype": "text/x-python",
   "name": "python",
   "nbconvert_exporter": "python",
   "pygments_lexer": "ipython3",
   "version": "3.5.2"
  }
 },
 "nbformat": 4,
 "nbformat_minor": 0
}
